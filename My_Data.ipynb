{
  "nbformat": 4,
  "nbformat_minor": 0,
  "metadata": {
    "colab": {
      "provenance": [],
      "authorship_tag": "ABX9TyOQi85ZUWvDfDJZruXLuA5m",
      "include_colab_link": true
    },
    "kernelspec": {
      "name": "python3",
      "display_name": "Python 3"
    },
    "language_info": {
      "name": "python"
    }
  },
  "cells": [
    {
      "cell_type": "markdown",
      "metadata": {
        "id": "view-in-github",
        "colab_type": "text"
      },
      "source": [
        "<a href=\"https://colab.research.google.com/github/Chactidae/system-pr/blob/main/My_Data.ipynb\" target=\"_parent\"><img src=\"https://colab.research.google.com/assets/colab-badge.svg\" alt=\"Open In Colab\"/></a>"
      ]
    },
    {
      "cell_type": "code",
      "execution_count": 2,
      "metadata": {
        "id": "zlAzs2AhfKsA"
      },
      "outputs": [],
      "source": [
        "from google.colab import files"
      ]
    },
    {
      "cell_type": "code",
      "source": [
        "uploaded = files.upload()"
      ],
      "metadata": {
        "colab": {
          "base_uri": "https://localhost:8080/",
          "height": 73
        },
        "id": "HRKq_gxZfY4y",
        "outputId": "80982781-fa46-4af4-b9b8-54fbfd279d5f"
      },
      "execution_count": 31,
      "outputs": [
        {
          "output_type": "display_data",
          "data": {
            "text/plain": [
              "<IPython.core.display.HTML object>"
            ],
            "text/html": [
              "\n",
              "     <input type=\"file\" id=\"files-b68ef3c9-66c9-4a58-bdd4-91dc1734a5e2\" name=\"files[]\" multiple disabled\n",
              "        style=\"border:none\" />\n",
              "     <output id=\"result-b68ef3c9-66c9-4a58-bdd4-91dc1734a5e2\">\n",
              "      Upload widget is only available when the cell has been executed in the\n",
              "      current browser session. Please rerun this cell to enable.\n",
              "      </output>\n",
              "      <script>// Copyright 2017 Google LLC\n",
              "//\n",
              "// Licensed under the Apache License, Version 2.0 (the \"License\");\n",
              "// you may not use this file except in compliance with the License.\n",
              "// You may obtain a copy of the License at\n",
              "//\n",
              "//      http://www.apache.org/licenses/LICENSE-2.0\n",
              "//\n",
              "// Unless required by applicable law or agreed to in writing, software\n",
              "// distributed under the License is distributed on an \"AS IS\" BASIS,\n",
              "// WITHOUT WARRANTIES OR CONDITIONS OF ANY KIND, either express or implied.\n",
              "// See the License for the specific language governing permissions and\n",
              "// limitations under the License.\n",
              "\n",
              "/**\n",
              " * @fileoverview Helpers for google.colab Python module.\n",
              " */\n",
              "(function(scope) {\n",
              "function span(text, styleAttributes = {}) {\n",
              "  const element = document.createElement('span');\n",
              "  element.textContent = text;\n",
              "  for (const key of Object.keys(styleAttributes)) {\n",
              "    element.style[key] = styleAttributes[key];\n",
              "  }\n",
              "  return element;\n",
              "}\n",
              "\n",
              "// Max number of bytes which will be uploaded at a time.\n",
              "const MAX_PAYLOAD_SIZE = 100 * 1024;\n",
              "\n",
              "function _uploadFiles(inputId, outputId) {\n",
              "  const steps = uploadFilesStep(inputId, outputId);\n",
              "  const outputElement = document.getElementById(outputId);\n",
              "  // Cache steps on the outputElement to make it available for the next call\n",
              "  // to uploadFilesContinue from Python.\n",
              "  outputElement.steps = steps;\n",
              "\n",
              "  return _uploadFilesContinue(outputId);\n",
              "}\n",
              "\n",
              "// This is roughly an async generator (not supported in the browser yet),\n",
              "// where there are multiple asynchronous steps and the Python side is going\n",
              "// to poll for completion of each step.\n",
              "// This uses a Promise to block the python side on completion of each step,\n",
              "// then passes the result of the previous step as the input to the next step.\n",
              "function _uploadFilesContinue(outputId) {\n",
              "  const outputElement = document.getElementById(outputId);\n",
              "  const steps = outputElement.steps;\n",
              "\n",
              "  const next = steps.next(outputElement.lastPromiseValue);\n",
              "  return Promise.resolve(next.value.promise).then((value) => {\n",
              "    // Cache the last promise value to make it available to the next\n",
              "    // step of the generator.\n",
              "    outputElement.lastPromiseValue = value;\n",
              "    return next.value.response;\n",
              "  });\n",
              "}\n",
              "\n",
              "/**\n",
              " * Generator function which is called between each async step of the upload\n",
              " * process.\n",
              " * @param {string} inputId Element ID of the input file picker element.\n",
              " * @param {string} outputId Element ID of the output display.\n",
              " * @return {!Iterable<!Object>} Iterable of next steps.\n",
              " */\n",
              "function* uploadFilesStep(inputId, outputId) {\n",
              "  const inputElement = document.getElementById(inputId);\n",
              "  inputElement.disabled = false;\n",
              "\n",
              "  const outputElement = document.getElementById(outputId);\n",
              "  outputElement.innerHTML = '';\n",
              "\n",
              "  const pickedPromise = new Promise((resolve) => {\n",
              "    inputElement.addEventListener('change', (e) => {\n",
              "      resolve(e.target.files);\n",
              "    });\n",
              "  });\n",
              "\n",
              "  const cancel = document.createElement('button');\n",
              "  inputElement.parentElement.appendChild(cancel);\n",
              "  cancel.textContent = 'Cancel upload';\n",
              "  const cancelPromise = new Promise((resolve) => {\n",
              "    cancel.onclick = () => {\n",
              "      resolve(null);\n",
              "    };\n",
              "  });\n",
              "\n",
              "  // Wait for the user to pick the files.\n",
              "  const files = yield {\n",
              "    promise: Promise.race([pickedPromise, cancelPromise]),\n",
              "    response: {\n",
              "      action: 'starting',\n",
              "    }\n",
              "  };\n",
              "\n",
              "  cancel.remove();\n",
              "\n",
              "  // Disable the input element since further picks are not allowed.\n",
              "  inputElement.disabled = true;\n",
              "\n",
              "  if (!files) {\n",
              "    return {\n",
              "      response: {\n",
              "        action: 'complete',\n",
              "      }\n",
              "    };\n",
              "  }\n",
              "\n",
              "  for (const file of files) {\n",
              "    const li = document.createElement('li');\n",
              "    li.append(span(file.name, {fontWeight: 'bold'}));\n",
              "    li.append(span(\n",
              "        `(${file.type || 'n/a'}) - ${file.size} bytes, ` +\n",
              "        `last modified: ${\n",
              "            file.lastModifiedDate ? file.lastModifiedDate.toLocaleDateString() :\n",
              "                                    'n/a'} - `));\n",
              "    const percent = span('0% done');\n",
              "    li.appendChild(percent);\n",
              "\n",
              "    outputElement.appendChild(li);\n",
              "\n",
              "    const fileDataPromise = new Promise((resolve) => {\n",
              "      const reader = new FileReader();\n",
              "      reader.onload = (e) => {\n",
              "        resolve(e.target.result);\n",
              "      };\n",
              "      reader.readAsArrayBuffer(file);\n",
              "    });\n",
              "    // Wait for the data to be ready.\n",
              "    let fileData = yield {\n",
              "      promise: fileDataPromise,\n",
              "      response: {\n",
              "        action: 'continue',\n",
              "      }\n",
              "    };\n",
              "\n",
              "    // Use a chunked sending to avoid message size limits. See b/62115660.\n",
              "    let position = 0;\n",
              "    do {\n",
              "      const length = Math.min(fileData.byteLength - position, MAX_PAYLOAD_SIZE);\n",
              "      const chunk = new Uint8Array(fileData, position, length);\n",
              "      position += length;\n",
              "\n",
              "      const base64 = btoa(String.fromCharCode.apply(null, chunk));\n",
              "      yield {\n",
              "        response: {\n",
              "          action: 'append',\n",
              "          file: file.name,\n",
              "          data: base64,\n",
              "        },\n",
              "      };\n",
              "\n",
              "      let percentDone = fileData.byteLength === 0 ?\n",
              "          100 :\n",
              "          Math.round((position / fileData.byteLength) * 100);\n",
              "      percent.textContent = `${percentDone}% done`;\n",
              "\n",
              "    } while (position < fileData.byteLength);\n",
              "  }\n",
              "\n",
              "  // All done.\n",
              "  yield {\n",
              "    response: {\n",
              "      action: 'complete',\n",
              "    }\n",
              "  };\n",
              "}\n",
              "\n",
              "scope.google = scope.google || {};\n",
              "scope.google.colab = scope.google.colab || {};\n",
              "scope.google.colab._files = {\n",
              "  _uploadFiles,\n",
              "  _uploadFilesContinue,\n",
              "};\n",
              "})(self);\n",
              "</script> "
            ]
          },
          "metadata": {}
        },
        {
          "output_type": "stream",
          "name": "stdout",
          "text": [
            "Saving Mlbb_Heroes.csv to Mlbb_Heroes.csv\n"
          ]
        }
      ]
    },
    {
      "cell_type": "code",
      "source": [
        "import os\n",
        "\n",
        "for dirpath, _, filenames in os.walk('/content/'):\n",
        "  for filename in filenames:\n",
        "    print(os.path.join(dirpath, filename))"
      ],
      "metadata": {
        "id": "_H6Cz2-SgUlJ"
      },
      "execution_count": null,
      "outputs": []
    },
    {
      "cell_type": "code",
      "source": [
        "!ls"
      ],
      "metadata": {
        "id": "g4hK5dh-gs9R"
      },
      "execution_count": null,
      "outputs": []
    },
    {
      "cell_type": "code",
      "source": [
        "!ls /content/sample_data/"
      ],
      "metadata": {
        "id": "KQSJhMlogw3g"
      },
      "execution_count": null,
      "outputs": []
    },
    {
      "cell_type": "code",
      "source": [
        "type(uploaded['Mlbb_Heroes.csv'])"
      ],
      "metadata": {
        "colab": {
          "base_uri": "https://localhost:8080/"
        },
        "id": "LAfAG3_Zgw4H",
        "outputId": "a839dc37-da7a-4aea-bf60-0385a537714e"
      },
      "execution_count": 33,
      "outputs": [
        {
          "output_type": "execute_result",
          "data": {
            "text/plain": [
              "bytes"
            ]
          },
          "metadata": {},
          "execution_count": 33
        }
      ]
    },
    {
      "cell_type": "code",
      "source": [
        "uploaded_str = uploaded['Mlbb_Heroes.csv'].decode()\n",
        "print(type(uploaded_str))"
      ],
      "metadata": {
        "colab": {
          "base_uri": "https://localhost:8080/"
        },
        "id": "F8awHnGoiRve",
        "outputId": "6dcc2de5-8ecb-431a-f7ef-dc08a59775de"
      },
      "execution_count": 36,
      "outputs": [
        {
          "output_type": "stream",
          "name": "stdout",
          "text": [
            "<class 'str'>\n"
          ]
        }
      ]
    },
    {
      "cell_type": "code",
      "source": [
        "print(uploaded_list[:15])"
      ],
      "metadata": {
        "colab": {
          "base_uri": "https://localhost:8080/"
        },
        "id": "wZM-bXgZlfU7",
        "outputId": "0e116021-bf25-4b84-bf7e-e1c62dabf2ca"
      },
      "execution_count": 39,
      "outputs": [
        {
          "output_type": "stream",
          "name": "stdout",
          "text": [
            "['Name,Title,Voice_Line,Release_Date,Primary_Role,Secondary_Role,Lane,Hp,Hp_Regen,Mana,Mana_Regen,Phy_Damage,Mag_Damage,Phy_Defence,Mag_Defence,Mov_Speed,Esport_Wins,Esport_Loss\\nAamon,Duke of Shards,\"It is better to be feared than loved, if you cannot both.\",2021-10-25,Assassin,,Jungler,2614,8,455,21,115,0,19,15,250,43,42\\nAkai,Panda Warrior,Now Akai enters the scene!,2016,Tank,Support,Roamer,2769,8.4,422,12,115,0,24,15,260,540,524\\nAldous,Soul Contractor,Primary Role,2018,Fighter,,EXP Lane,2718,9.8,405,18,129,0,21,15,260,95,92\\nAlice,Queen of Blood,Watch your back!,2016,Mage,Tank,EXP Lane,2573,7.2,493,18,114,0,21,15,240,364,352\\nAlpha,Blade of Enmity,Test! Alpha is online.,2017,Fighter,,EXP Lane,2646,7.8,453,31,121,0,25,15,260,24,33\\nAlucard,Demon Hunter,Demons shall bathe in their blood. The light belongs to the righteous.,2016,Fighter,Assassin,Jungler,2621,7.8,0,0,123,0,21,15,260,22,33\\nAngela,Bunnylove,Primary Role,2018-02-06,Support,,Roamer,2421,6.8,515,18,115,0,15,15,240,253,325\\nArgus,Dark Angel,Primary Role,2017,Fighter,,EXP Lane,2628,8,0,0,100,0,21,15,260,2,7\\nAtlas,Ocean Gladiator,The ocean is not just our home. It is who we are.,2020-03-20,Tank,Support,Roamer,2819,8.4,440,15,135,0,21,15,240,277,254\\nAurora,Frost Oracle,Listen to the sound of snowing.,09-05-2017,Mage,,Mid,2501,6.8,750,23,110,0,17,15,245,28,26\\nAulus,Warrior of Ferocity,Old Aulus still has a few tricks to show!,2021-08-31,Fighter,,EXP Lane,2758,10.2,410,17,90,0,24,15,255,114,109\\nBadang,Tribal Warrior,Primary Role,2019-01-15,Fighter,,EXP Lane,2708,8,0,0,111,0,23,15,255,15,14\\nBalmond,Bloody Beast,Primary Role,2016,Fighter,,EXP Lane,2736,9.4,0,0,119,0,25,15,260,301,330\\nBane,Frozen King,Target locked,2016,Fighter,Mage,Jungler,2559,8.4,433,12,117,0,23,15,260,95,111\\nBarats,Dino Rider,I might not be a learned man but I do know my trades.,2020-09-18,Tank,Fighter,EXP Lane,2559,8.8,430,15,135,0,18,15,268,327,346\\nBaxia,Mystic Tortoise,Rocks need no protection from the rain.,2019-10-08,Tank,,Jungler,2769,8.4,422,15,125,0,23,15,240,450,465\\nBeatrix,Dawnbreak Soldier,\"Time and tide wait for no man, not girl.\",2021-03-19,Marksman,,Gold Lane,2550,7.2,0,0,102,0,20,15,257,1016,969\\nBelerick,Guard of Nature,Primary Role,2018-12-17,Tank,,Roamer,2569,8.4,450,12,110,0,15,15,250,57,71\\nBenedetta,Shadow Ranger,\"When the body suffers, the spirit blooms.\",2020-11-07,Assassin,,EXP Lane,2569,6.6,460,16,113,0,18,15,255,477,471\\nBrody,The Lone Star,Pain is the proof the I\\'m still alive.,2020-10-16,Marksman,,Gold Lane,2490,7.2,435,15,105,0,20,15,253,470,476\\nBruno,Mech Protector,Primary Role,2016,Marksman,,Gold Lane,2522,6,439,15,140,0,17,15,240,154,154\\nCarmilla,Shadow of Twilight,True love is like blood,2020-01-17,Support,,Roamer,2528,7.8,430,16,126,0,25,15,255,32,47\\nCecilion,Embrace of Night,Only love and night are everlasting.,2020-02-12,Mage,,Mid,2456,6.8,700,30,105,0,18,15,255,470,588\\nChang\\'e,Moon Palace Immortal,Primary Role,2018-05-30,Mage,,Mid,2301,6.8,505,21,115,0,16,15,240,221,285\\nChou,Kung-Fu Boy,Primary Role,2016,Fighter,,Gold Lane,2708,7.8,0,0,121,0,23,15,260,1139,1057\\nClaude,Partners in Crime,\"Come on Dexter, it\\'s our showtime!\",2018-08-07,Marksman,,Gold Lane,2370,8,450,16,97,0,14,15,240,618,583\\nClint,Wild Wanderer,Chivalry is dead. And I will revive it.,2016,Marksman,,Gold Lane,2530,7.2,450,15,115,0,20,15,240,540,536\\nCyclops,Starsoul Magician,Primary Role,2017,Mage,,Mid,2521,7.6,500,20,112,0,18,15,240,69,90\\nDiggie,Timekeeper,Primary Role,2017-11-19,Support,,Roamer,2468,7.2,490,20,115,0,20,15,250,270,318\\nDyrroth,Prince of the Abyss,Primary Role,2019-06-25,Fighter,,EXP Lane,2758,8.2,0,0,117,0,22,15,265,345,300\\nEsmeralda,Astrologer,Secondary Role,2019-04-02,Mage,Tank,EXP Lane,2573,7.2,502,20,114,0,21,15,240,1357,1529\\nEdith,Ancient Guard,\"I\\'m the Priestess of Primal Lightning, the hunter of all the evil gods!\",2021-12-24,Tank,Marksman,EXP Lane,2549,9,0,0,110,0,15,15,255,87,93\\nEstes,Moon Elf King,Primary Role,12-04-2017,Support,,Roamer,2221,7.2,545,18,120,0,13,15,240,220,203\\nEudora,Lightning Weaver,You should be ashamed for not trusting yourself.,2016,Mage,,Mid,2524,7.6,468,16,112,0,19,15,250,78,67\\nFanny,Blade Dancer,\"Sir, what\\'s your command?\",2016,Assassin,,Jungler,2526,6.6,100,3,126,0,19,15,265,189,196\\nFaramis,Soul Binder,Secondary Role,2019-05-18,Support,Mage,Roamer,2543,6.8,500,19,118,0,20,15,245,162,118\\nFloryn,The Budding Hope,Let\\'s make the whole world green and lively!,2021-09-22,Support,,Roamer,2401,7.6,550,22,119,0,12,15,240,16,32\\nFranco,Frozen Warrior,I love the smell of gunpowder in the mornin\\'!,2016,Tank,Support,Roamer,2709,9.2,440,10,116,0,25,15,260,360,267\\nFredrinn,Rogue Appraiser,See value in me? *Humph* You should.,2022-08-12,Tank,Fighter,EXP Lane,2709,6.4,0,0,125,0,20,15,260,0,3\\nFreya,Valkyrie,I am a daughter of Northern Vale. I swear to protect it till my last breath.,2016,Fighter,,EXP Lane,2801,9.8,0,0,109,0,22,15,260,7,15\\nGatotkaca,Iron Steel,Secondary Role,2017,Tank,Fighter,Roamer,2629,8.4,0,0,128,0,10,15,260,71,74\\nGloo,Swamp Spirits,You are facing a cluster.,2021-04-16,Tank,,Roamer,2819,12.4,440,20,120,0,18,15,245,244,223\\nGord,Professor of the Mystic,Primary Role,2016,Mage,,Mid,2478,6.4,570,25,110,0,13,15,240,13,21\\nGranger,Death Chanter,Primary Role,2019-04-19,Marksman,,Gold Lane,2370,5.4,0,0,100,0,15,15,240,309,349\\nGrock,Fortress Titan,Primary Role,2017,Tank,,Roamer,2819,8.4,430,12,135,0,21,15,260,601,634\\nGuinevere,Ms. Violet,Primary Role,2019-02-21,Fighter,,Gold Lane,2528,7.8,0,0,126,0,18,15,260,18,26\\nGusion,Holy Blade,I\\'m bound by nothing – be it family or destiny.,2018,Assassin,,Jungler,2578,7.8,460,16,119,0,18,15,260,117,131\\nHanabi,The Scarlet Sakura,\"Hanabi, sannjyo!\",2018-04-17,Marksman,,Gold Lane,2510,6,390,15,105,0,17,15,245,14,12\\nHanzo,Akuma Ninja,Primary Role,2018-12-04,Assassin,,Jungler,2594,7,0,0,108,0,17,15,260,14,25\\nHarith,Time Traveler,Primary Role,2018-11,Mage,,Mid,2701,7.2,490,18,114,0,19,15,240,243,222\\nHarley,Mage Genius,Time for me to make my entrance!,2017-08-04,Mage,Assassin,Mid,2501,7.2,490,18,114,0,19,15,240,211,217\\nHayabusa,Crimson Shadow,\"Hayabusa, sannjyo!\",2016,Assassin,,Jungler,2429,7.4,100,4,117,0,17,15,260,607,564\\nHelcurt,Shadowbringer,Primary Role,2017,Assassin,,Jungler,2599,7,440,16,121,0,17,15,255,173,179\\nHilda,Power of Megalith,The real warrior is here.,2017,Fighter,Tank,EXP Lane,2789,8.4,0,0,123,0,24,15,260,192,230\\nHylos,Grand Warden,Primary Role,2017,Tank,,Roamer,2909,18.4,430,12,105,0,17,15,260,232,277\\nIrithel,Jungle Heart,Primary Role,2017-08-15,Marksman,,Gold Lane,2540,7,0,0,118,0,17,15,260,114,109\\nJawhead,Steel Sweetheart,Primary Role,2018,Fighter,,EXP Lane,2658,7.8,430,16,119,0,24,15,255,470,490\\nJohnson,Mustang,Primary Role,2017,Tank,,Roamer,2809,8.4,0,0,120,0,27,15,255,68,69\\nJulian,Scarlet Raven,\"I, am more than a weapon.\",2022-05-24,Fighter,Mage,EXP Lane,2878,7.8,420,16,128,0,24,15,262,281,256\\nKadita,Ocean Goddess,Secondary Role,2018,Mage,Assassin,Mid,2491,7.2,495,18,105,0,18,15,240,198,148\\nKagura,Onmyouji Master,Urana tte age you ka!,2016,Mage,,Mid,2556,7,519,21,118,0,19,10,240,714,739\\nKaja,Nazar King,Secondary Role,2018,Fighter,Support,EXP Lane,2609,10.4,400,12,120,0,21,15,270,278,280\\nKarina,Shadow Blade,Primary Role,2016,Assassin,,Jungler,2633,7.8,431,16,121,0,20,15,260,403,395\\nKarrie,Lost Star,Primary Role,2017-07-05,Marksman,,Gold Lane,2578,8,440,15,120,0,17,15,240,350,430\\nKhaleed,Desert Scimitar,Sand rises when I give the word!,2020-08-06,Fighter,,EXP Lane,2778,7,0,0,109,0,23,15,250,174,166\\nKhufra,Desert Tyrant,Secondary Role,2019,Tank,Support,Roamer,2770,9.4,460,15,117,0,19,15,255,689,661\\nKimmy,Jetpack Rebel,Secondary Role,2018-10,Marksman,Mage,Gold Lane,2450,8,100,5,90,0,22,15,245,233,203\\nLancelot,Blade of Roses,Thorns remain should petals fall.,2017,Assassin,,Jungler,2549,7,450,16,124,0,16,15,260,603,568\\nLapu-Lapu,Courageous Blade,Primary Role,23-05-2017,Fighter,,EXP Lane,2628,7,0,0,119,0,21,15,260,239,256\\nLayla,Energy Gunner,Ready? Go!,2016,Marksman,,Gold Lane,2500,5.4,424,14,125,0,15,15,240,8,7\\nLeomord,The Oathkeeper,Primary Role,2018,Fighter,,EXP Lane,2738,7,0,0,126,0,21,15,240,89,122\\nLesley,Deadly Sniper,Secondary Role,2018-01,Marksman,Assassin,Gold Lane,2490,7.2,100,240,131,0,14,15,240,19,35\\nLing,Cyan Finch,Still swords run deep.,2019,Assassin,,Jungler,2578,7.8,100,4,125,0,18,15,260,700,684\\nLolita,Steel Elf,Secondary Role,2016,Support,Tank,Roamer,2579,9.6,480,12,115,0,27,15,260,508,436\\nLunox,Twilight Goddess,Primary Role,2018,Mage,,Mid,2621,6.8,540,23,115,0,15,15,240,724,698\\nLuo_Yi,Yin-yang Geomancer,Gaze the stars and seek your path.,2020-05-16,Mage,,Mid,2601,7.2,520,21,107,0,20,15,250,165,147\\nLylia,Little Wizard,Primary Role,2019-07-23,Mage,,Mid,2501,6.8,500,19,113,0,17,15,245,655,628\\nMathilda,Swift Plume,Always on the way!,2020-12-12,Support,Assassin,Roamer,2561,6.8,430,16,120,0,22,15,252,756,736\\nMartis,Ashura King,Primary Role,2018,Fighter,,EXP Lane,2738,7,0,0,128,0,25,15,260,95,110\\nMasha,Wild-oats Fist,The fire of battle never extinguishes.,2019-09-17,Fighter,Tank,EXP Lane,2043,3.8,0,0,91,0,10,15,250,321,278\\nMelissa,Cursed Needle,NEED SOME STITCHES? I CAN HELP! *GIGGLES*,2022-02-22,Marksman,,Gold Lane,2460,6.6,448,15,123,0,18,15,248,67,75\\nMinotaur,Son of Minos,Secondary Role,2016,Tank,Support,Roamer,2859,8.8,0,0,123,0,18,10,260,96,96\\nMinsitthar,Courageous Warrior,Primary Role,2018,Fighter,,EXP Lane,2698,7.4,380,16,121,0,23,15,260,20,30\\nMiya,Moonlight Archer,I am the moonlight that breaks through the darkness!,22-09-2016,Marksman,,Gold Lane,2524,6,445,15,100,0,17,15,240,18,14\\nMoskov,Spear of Quiescence,Primary Role,20-03-2017,Marksman,,Gold Lane,2455,6.4,420,15,125,0,16,15,240,42,36\\nNana,Sweet Leonin,Adventure\\'s waiting for us!,2016,Mage,Support,Mid,2501,6.8,510,18,115,0,17,15,250,26,38\\nNatan,Spacetime Walker,It is in despair that I see the fondest hopes.,2021-07-23,Marksman,,Gold Lane,2530,6,443,15,115,0,17,15,245,167,155\\nNatalia,Bright Claw,Primary Role,2016-12,Assassin,,Jungler,2639,7,486,16,121,0,18,15,260,173,173\\nOdette,Swan Princess,Love outshines the golden crown!,2017-09-29,Mage,,Mid,2491,6.8,495,23,105,0,18,15,240,2,4\\nPharsa,Wings of Vengeance,Primary Role,2017,Mage,,Mid,2421,6.8,490,18,109,0,17,15,240,668,673\\nPhoveus,Shadow of Dread,Tremble in my presence.,2021-05-11,Fighter,,EXP Lane,2828,10.8,430,21,132,0,25,15,252,309,273\\nPopol_and_Kupa,Icefield Companions,Primary Role,2020-04-21,Marksman,,Gold Lane,2425,6,445,15,95,0,17,15,250,669,654\\nPaquito,The Heavenly Fist,A punch for a punch!,2021-01-15,Fighter,,EXP Lane,2798,9.8,0,0,121,0,22,15,260,1064,964\\nRafaela,Wings of Holiness,Healing prayers for you!,2016,Support,,Roamer,2441,7.2,545,23,117,0,15,15,245,375,418\\nRoger,Dire Wolf Hunter,Secondary Role,2017-06-25,Fighter,Marksman,Jungler,2730,7.2,450,15,128,0,22,15,240,361,411\\nRuby,Little Red Hood,Secondary Role,2017,Fighter,Tank,EXP Lane,2646,7.8,453,31,121,0,25,15,260,547,632\\nSelena,Abyssal Witch,Secondary Role,2018-07-18,Assassin,Mage,Jungler,2401,6.8,490,18,110,0,15,15,240,493,531\\nSilvanna,Imperial Knightess,Primary Role,2019-12-17,Fighter,,EXP Lane,2868,7.8,430,16,126,0,22,15,255,88,84\\nTerizla,Executioner,Primary Role,2019-06-04,Fighter,,EXP Lane,2728,10.8,430,21,129,0,19,15,255,103,105\\nThamuz,Lord Lava,Primary Role,2018,Fighter,,EXP Lane,2758,7.4,0,0,107,0,17,15,250,582,597\\nUranus,Aethereal Defender,Primary Role,2018,Tank,,EXP Lane,2489,6.4,455,12,115,0,15,15,260,596,578\\nVale,Windtalker,Primary Role,2019-01-29,Mage,,Mid,2401,6.8,490,21,115,0,15,15,250,53,57\\nValentina,Prophetess of the Night,\"I didn\\'t cure the pain, I harness it.\",2021,Mage,,Mid,2701,7.2,510,19,115,0,21,15,240,270,250\\nValir,Son of Flames,Primary Role,2018,Mage,,Mid,2516,6.8,495,18,105,0,20,15,245,129,125\\nVexana,Shimmer of Hope,Primary Role,2017,Mage,,Mid,2481,7.6,490,20,112,0,17,15,245,5,4\\nWanwan,Agile Tiger,\"To me, fun is all that matters.\",2019-11-26,Marksman,,Gold Lane,2540,5.4,424,14,95,0,15,15,245,413,312\\nXavier,Defier of Light,This time ... the choice is mine.,2022-03-22,Mage,,Mid,2616,6.8,670,26,111,0,15,15,250,252,232\\nX.Borg,Firaga Armor,Primary Role,2019-08-09,Fighter,,EXP Lane,918,7.8,0,0,117,0,25,15,260,318,327\\nYin,Martial Genius,\"I AM YIN, AND WILL ALWAYS BE, NO MATTER WHAT!\",2022-01-18,Fighter,,EXP Lane,2578,9.8,0,,109,0,21,15,252,52,45\\nYi_Sun-Shin,Paenlong Legend,Secondary Role,2017,Assassin,Marksman,Jungler,2570,7.2,438,15,100,0,22,15,250,443,383\\nYu_Zhong,Black Dragon,\"I would rather betray the world, than let the world betray me.\",2020-06-19,Fighter,,EXP Lane,2698,11.8,0,0,129,0,21,15,245,550,594\\nYve,Astrowarden,\"Among the planes exists the equilibrium, which I was made for.\",2021-02-12,Mage,,Mid,2651,7.2,510,21,115,0,19,15,255,834,722\\nZhask,Planes Dominator,\"Grovel before your King, human!\",2017-11-27,Mage,,Mid,2401,6.8,490,20,107,0,15,15,240,37,46\\nZilong,Spear of Dragon,The Dragonborn is back!,2016,Fighter,Assassin,Gold Lane,2689,7,405,16,123,0,25,15,265,5,23\\n']\n"
          ]
        }
      ]
    },
    {
      "cell_type": "code",
      "source": [
        "uploaded_list = uploaded_str.split('\\n')\n",
        "type(uploaded_list)"
      ],
      "metadata": {
        "colab": {
          "base_uri": "https://localhost:8080/"
        },
        "id": "V4arkoImiAOH",
        "outputId": "3c7faf96-9646-4d9d-be38-bb23f684d0ce"
      },
      "execution_count": 47,
      "outputs": [
        {
          "output_type": "execute_result",
          "data": {
            "text/plain": [
              "list"
            ]
          },
          "metadata": {},
          "execution_count": 47
        }
      ]
    },
    {
      "cell_type": "code",
      "source": [
        "for i, line in enumerate(uploaded_list):\n",
        "\n",
        "  # начнем выводить записи\n",
        "  print(line)\n",
        "\n",
        "  # когда дойдем до четвертой строки\n",
        "  if i == 3:\n",
        "    break"
      ],
      "metadata": {
        "colab": {
          "base_uri": "https://localhost:8080/"
        },
        "id": "BUuJ94iIl61p",
        "outputId": "b693ab66-f4f1-4c78-eb73-3755614a7ae7"
      },
      "execution_count": 48,
      "outputs": [
        {
          "output_type": "stream",
          "name": "stdout",
          "text": [
            "Name,Title,Voice_Line,Release_Date,Primary_Role,Secondary_Role,Lane,Hp,Hp_Regen,Mana,Mana_Regen,Phy_Damage,Mag_Damage,Phy_Defence,Mag_Defence,Mov_Speed,Esport_Wins,Esport_Loss\n",
            "Aamon,Duke of Shards,\"It is better to be feared than loved, if you cannot both.\",2021-10-25,Assassin,,Jungler,2614,8,455,21,115,0,19,15,250,43,42\n",
            "Akai,Panda Warrior,Now Akai enters the scene!,2016,Tank,Support,Roamer,2769,8.4,422,12,115,0,24,15,260,540,524\n",
            "Aldous,Soul Contractor,Primary Role,2018,Fighter,,EXP Lane,2718,9.8,405,18,129,0,21,15,260,95,92\n"
          ]
        }
      ]
    },
    {
      "cell_type": "code",
      "source": [
        "# передадим функции open() адрес файла\n",
        "# параметр 'r' означает, что мы хотим прочитать (read) файл\n",
        "f1 = open('/content/Mlbb_Heroes.csv', 'r')\n",
        "\n",
        "# метод .read() помещает весь файл в одну строку\n",
        "# выведем первые 142 символа (если параметр не указывать, выведется все содержимое)\n",
        "print(f1.read(142))\n",
        "\n",
        "# в конце файл необходимо закрыть\n",
        "f1.close()"
      ],
      "metadata": {
        "colab": {
          "base_uri": "https://localhost:8080/"
        },
        "id": "O01b64b5mrxX",
        "outputId": "bdddcf6e-8a95-44a0-ae49-ac8ee2c2c43f"
      },
      "execution_count": 52,
      "outputs": [
        {
          "output_type": "stream",
          "name": "stdout",
          "text": [
            "Name,Title,Voice_Line,Release_Date,Primary_Role,Secondary_Role,Lane,Hp,Hp_Regen,Mana,Mana_Regen,Phy_Damage,Mag_Damage,Phy_Defence,Mag_Defence,\n"
          ]
        }
      ]
    },
    {
      "cell_type": "code",
      "source": [
        "# снова откроем файл\n",
        "f2 = open('/content/Mlbb_Heroes.csv', 'r')\n",
        "\n",
        "# пройдемся по нашему объекту в цикле for и параллельно создадим индекс\n",
        "for i, line in enumerate(f2):\n",
        "\n",
        "    # выведем строки без служебных символов по краям\n",
        "    print(line.strip())\n",
        "    \n",
        "    # дойдя до четвертой строки, прервемся\n",
        "    if i == 3:\n",
        "      break\n",
        "\n",
        "# не забудем закрыть файл\n",
        "f2.close()"
      ],
      "metadata": {
        "id": "qkgYhEQloi1f"
      },
      "execution_count": null,
      "outputs": []
    },
    {
      "cell_type": "code",
      "source": [
        "import pandas as pd\n",
        "\n",
        "heroes = pd.read_csv('/content/Mlbb_Heroes.csv')\n",
        "heroes.head(6)"
      ],
      "metadata": {
        "colab": {
          "base_uri": "https://localhost:8080/",
          "height": 510
        },
        "id": "1NbJLJw9oubO",
        "outputId": "90c7eaed-d7a1-4578-eab3-506eeed5216d"
      },
      "execution_count": 57,
      "outputs": [
        {
          "output_type": "execute_result",
          "data": {
            "text/plain": [
              "      Name            Title  \\\n",
              "0    Aamon   Duke of Shards   \n",
              "1     Akai    Panda Warrior   \n",
              "2   Aldous  Soul Contractor   \n",
              "3    Alice   Queen of Blood   \n",
              "4    Alpha  Blade of Enmity   \n",
              "5  Alucard     Demon Hunter   \n",
              "\n",
              "                                          Voice_Line Release_Date  \\\n",
              "0  It is better to be feared than loved, if you c...   2021-10-25   \n",
              "1                         Now Akai enters the scene!         2016   \n",
              "2                                       Primary Role         2018   \n",
              "3                                   Watch your back!         2016   \n",
              "4                             Test! Alpha is online.         2017   \n",
              "5  Demons shall bathe in their blood. The light b...         2016   \n",
              "\n",
              "  Primary_Role Secondary_Role      Lane    Hp  Hp_Regen  Mana  Mana_Regen  \\\n",
              "0     Assassin            NaN   Jungler  2614       8.0   455        21.0   \n",
              "1         Tank        Support    Roamer  2769       8.4   422        12.0   \n",
              "2      Fighter            NaN  EXP Lane  2718       9.8   405        18.0   \n",
              "3         Mage           Tank  EXP Lane  2573       7.2   493        18.0   \n",
              "4      Fighter            NaN  EXP Lane  2646       7.8   453        31.0   \n",
              "5      Fighter       Assassin   Jungler  2621       7.8     0         0.0   \n",
              "\n",
              "   Phy_Damage  Mag_Damage  Phy_Defence  Mag_Defence  Mov_Speed  Esport_Wins  \\\n",
              "0         115           0           19           15        250           43   \n",
              "1         115           0           24           15        260          540   \n",
              "2         129           0           21           15        260           95   \n",
              "3         114           0           21           15        240          364   \n",
              "4         121           0           25           15        260           24   \n",
              "5         123           0           21           15        260           22   \n",
              "\n",
              "   Esport_Loss  \n",
              "0           42  \n",
              "1          524  \n",
              "2           92  \n",
              "3          352  \n",
              "4           33  \n",
              "5           33  "
            ],
            "text/html": [
              "\n",
              "  <div id=\"df-eb3dfbfa-a26d-4cc2-a8ba-d258df5c33a7\">\n",
              "    <div class=\"colab-df-container\">\n",
              "      <div>\n",
              "<style scoped>\n",
              "    .dataframe tbody tr th:only-of-type {\n",
              "        vertical-align: middle;\n",
              "    }\n",
              "\n",
              "    .dataframe tbody tr th {\n",
              "        vertical-align: top;\n",
              "    }\n",
              "\n",
              "    .dataframe thead th {\n",
              "        text-align: right;\n",
              "    }\n",
              "</style>\n",
              "<table border=\"1\" class=\"dataframe\">\n",
              "  <thead>\n",
              "    <tr style=\"text-align: right;\">\n",
              "      <th></th>\n",
              "      <th>Name</th>\n",
              "      <th>Title</th>\n",
              "      <th>Voice_Line</th>\n",
              "      <th>Release_Date</th>\n",
              "      <th>Primary_Role</th>\n",
              "      <th>Secondary_Role</th>\n",
              "      <th>Lane</th>\n",
              "      <th>Hp</th>\n",
              "      <th>Hp_Regen</th>\n",
              "      <th>Mana</th>\n",
              "      <th>Mana_Regen</th>\n",
              "      <th>Phy_Damage</th>\n",
              "      <th>Mag_Damage</th>\n",
              "      <th>Phy_Defence</th>\n",
              "      <th>Mag_Defence</th>\n",
              "      <th>Mov_Speed</th>\n",
              "      <th>Esport_Wins</th>\n",
              "      <th>Esport_Loss</th>\n",
              "    </tr>\n",
              "  </thead>\n",
              "  <tbody>\n",
              "    <tr>\n",
              "      <th>0</th>\n",
              "      <td>Aamon</td>\n",
              "      <td>Duke of Shards</td>\n",
              "      <td>It is better to be feared than loved, if you c...</td>\n",
              "      <td>2021-10-25</td>\n",
              "      <td>Assassin</td>\n",
              "      <td>NaN</td>\n",
              "      <td>Jungler</td>\n",
              "      <td>2614</td>\n",
              "      <td>8.0</td>\n",
              "      <td>455</td>\n",
              "      <td>21.0</td>\n",
              "      <td>115</td>\n",
              "      <td>0</td>\n",
              "      <td>19</td>\n",
              "      <td>15</td>\n",
              "      <td>250</td>\n",
              "      <td>43</td>\n",
              "      <td>42</td>\n",
              "    </tr>\n",
              "    <tr>\n",
              "      <th>1</th>\n",
              "      <td>Akai</td>\n",
              "      <td>Panda Warrior</td>\n",
              "      <td>Now Akai enters the scene!</td>\n",
              "      <td>2016</td>\n",
              "      <td>Tank</td>\n",
              "      <td>Support</td>\n",
              "      <td>Roamer</td>\n",
              "      <td>2769</td>\n",
              "      <td>8.4</td>\n",
              "      <td>422</td>\n",
              "      <td>12.0</td>\n",
              "      <td>115</td>\n",
              "      <td>0</td>\n",
              "      <td>24</td>\n",
              "      <td>15</td>\n",
              "      <td>260</td>\n",
              "      <td>540</td>\n",
              "      <td>524</td>\n",
              "    </tr>\n",
              "    <tr>\n",
              "      <th>2</th>\n",
              "      <td>Aldous</td>\n",
              "      <td>Soul Contractor</td>\n",
              "      <td>Primary Role</td>\n",
              "      <td>2018</td>\n",
              "      <td>Fighter</td>\n",
              "      <td>NaN</td>\n",
              "      <td>EXP Lane</td>\n",
              "      <td>2718</td>\n",
              "      <td>9.8</td>\n",
              "      <td>405</td>\n",
              "      <td>18.0</td>\n",
              "      <td>129</td>\n",
              "      <td>0</td>\n",
              "      <td>21</td>\n",
              "      <td>15</td>\n",
              "      <td>260</td>\n",
              "      <td>95</td>\n",
              "      <td>92</td>\n",
              "    </tr>\n",
              "    <tr>\n",
              "      <th>3</th>\n",
              "      <td>Alice</td>\n",
              "      <td>Queen of Blood</td>\n",
              "      <td>Watch your back!</td>\n",
              "      <td>2016</td>\n",
              "      <td>Mage</td>\n",
              "      <td>Tank</td>\n",
              "      <td>EXP Lane</td>\n",
              "      <td>2573</td>\n",
              "      <td>7.2</td>\n",
              "      <td>493</td>\n",
              "      <td>18.0</td>\n",
              "      <td>114</td>\n",
              "      <td>0</td>\n",
              "      <td>21</td>\n",
              "      <td>15</td>\n",
              "      <td>240</td>\n",
              "      <td>364</td>\n",
              "      <td>352</td>\n",
              "    </tr>\n",
              "    <tr>\n",
              "      <th>4</th>\n",
              "      <td>Alpha</td>\n",
              "      <td>Blade of Enmity</td>\n",
              "      <td>Test! Alpha is online.</td>\n",
              "      <td>2017</td>\n",
              "      <td>Fighter</td>\n",
              "      <td>NaN</td>\n",
              "      <td>EXP Lane</td>\n",
              "      <td>2646</td>\n",
              "      <td>7.8</td>\n",
              "      <td>453</td>\n",
              "      <td>31.0</td>\n",
              "      <td>121</td>\n",
              "      <td>0</td>\n",
              "      <td>25</td>\n",
              "      <td>15</td>\n",
              "      <td>260</td>\n",
              "      <td>24</td>\n",
              "      <td>33</td>\n",
              "    </tr>\n",
              "    <tr>\n",
              "      <th>5</th>\n",
              "      <td>Alucard</td>\n",
              "      <td>Demon Hunter</td>\n",
              "      <td>Demons shall bathe in their blood. The light b...</td>\n",
              "      <td>2016</td>\n",
              "      <td>Fighter</td>\n",
              "      <td>Assassin</td>\n",
              "      <td>Jungler</td>\n",
              "      <td>2621</td>\n",
              "      <td>7.8</td>\n",
              "      <td>0</td>\n",
              "      <td>0.0</td>\n",
              "      <td>123</td>\n",
              "      <td>0</td>\n",
              "      <td>21</td>\n",
              "      <td>15</td>\n",
              "      <td>260</td>\n",
              "      <td>22</td>\n",
              "      <td>33</td>\n",
              "    </tr>\n",
              "  </tbody>\n",
              "</table>\n",
              "</div>\n",
              "      <button class=\"colab-df-convert\" onclick=\"convertToInteractive('df-eb3dfbfa-a26d-4cc2-a8ba-d258df5c33a7')\"\n",
              "              title=\"Convert this dataframe to an interactive table.\"\n",
              "              style=\"display:none;\">\n",
              "        \n",
              "  <svg xmlns=\"http://www.w3.org/2000/svg\" height=\"24px\"viewBox=\"0 0 24 24\"\n",
              "       width=\"24px\">\n",
              "    <path d=\"M0 0h24v24H0V0z\" fill=\"none\"/>\n",
              "    <path d=\"M18.56 5.44l.94 2.06.94-2.06 2.06-.94-2.06-.94-.94-2.06-.94 2.06-2.06.94zm-11 1L8.5 8.5l.94-2.06 2.06-.94-2.06-.94L8.5 2.5l-.94 2.06-2.06.94zm10 10l.94 2.06.94-2.06 2.06-.94-2.06-.94-.94-2.06-.94 2.06-2.06.94z\"/><path d=\"M17.41 7.96l-1.37-1.37c-.4-.4-.92-.59-1.43-.59-.52 0-1.04.2-1.43.59L10.3 9.45l-7.72 7.72c-.78.78-.78 2.05 0 2.83L4 21.41c.39.39.9.59 1.41.59.51 0 1.02-.2 1.41-.59l7.78-7.78 2.81-2.81c.8-.78.8-2.07 0-2.86zM5.41 20L4 18.59l7.72-7.72 1.47 1.35L5.41 20z\"/>\n",
              "  </svg>\n",
              "      </button>\n",
              "      \n",
              "  <style>\n",
              "    .colab-df-container {\n",
              "      display:flex;\n",
              "      flex-wrap:wrap;\n",
              "      gap: 12px;\n",
              "    }\n",
              "\n",
              "    .colab-df-convert {\n",
              "      background-color: #E8F0FE;\n",
              "      border: none;\n",
              "      border-radius: 50%;\n",
              "      cursor: pointer;\n",
              "      display: none;\n",
              "      fill: #1967D2;\n",
              "      height: 32px;\n",
              "      padding: 0 0 0 0;\n",
              "      width: 32px;\n",
              "    }\n",
              "\n",
              "    .colab-df-convert:hover {\n",
              "      background-color: #E2EBFA;\n",
              "      box-shadow: 0px 1px 2px rgba(60, 64, 67, 0.3), 0px 1px 3px 1px rgba(60, 64, 67, 0.15);\n",
              "      fill: #174EA6;\n",
              "    }\n",
              "\n",
              "    [theme=dark] .colab-df-convert {\n",
              "      background-color: #3B4455;\n",
              "      fill: #D2E3FC;\n",
              "    }\n",
              "\n",
              "    [theme=dark] .colab-df-convert:hover {\n",
              "      background-color: #434B5C;\n",
              "      box-shadow: 0px 1px 3px 1px rgba(0, 0, 0, 0.15);\n",
              "      filter: drop-shadow(0px 1px 2px rgba(0, 0, 0, 0.3));\n",
              "      fill: #FFFFFF;\n",
              "    }\n",
              "  </style>\n",
              "\n",
              "      <script>\n",
              "        const buttonEl =\n",
              "          document.querySelector('#df-eb3dfbfa-a26d-4cc2-a8ba-d258df5c33a7 button.colab-df-convert');\n",
              "        buttonEl.style.display =\n",
              "          google.colab.kernel.accessAllowed ? 'block' : 'none';\n",
              "\n",
              "        async function convertToInteractive(key) {\n",
              "          const element = document.querySelector('#df-eb3dfbfa-a26d-4cc2-a8ba-d258df5c33a7');\n",
              "          const dataTable =\n",
              "            await google.colab.kernel.invokeFunction('convertToInteractive',\n",
              "                                                     [key], {});\n",
              "          if (!dataTable) return;\n",
              "\n",
              "          const docLinkHtml = 'Like what you see? Visit the ' +\n",
              "            '<a target=\"_blank\" href=https://colab.research.google.com/notebooks/data_table.ipynb>data table notebook</a>'\n",
              "            + ' to learn more about interactive tables.';\n",
              "          element.innerHTML = '';\n",
              "          dataTable['output_type'] = 'display_data';\n",
              "          await google.colab.output.renderOutput(dataTable, element);\n",
              "          const docLink = document.createElement('div');\n",
              "          docLink.innerHTML = docLinkHtml;\n",
              "          element.appendChild(docLink);\n",
              "        }\n",
              "      </script>\n",
              "    </div>\n",
              "  </div>\n",
              "  "
            ]
          },
          "metadata": {},
          "execution_count": 57
        }
      ]
    },
    {
      "cell_type": "code",
      "source": [
        "heroes.info()"
      ],
      "metadata": {
        "colab": {
          "base_uri": "https://localhost:8080/"
        },
        "id": "YU-WPVg_pIUP",
        "outputId": "e727302b-2e9e-4415-ad0c-0285edecb6cd"
      },
      "execution_count": 59,
      "outputs": [
        {
          "output_type": "stream",
          "name": "stdout",
          "text": [
            "<class 'pandas.core.frame.DataFrame'>\n",
            "RangeIndex: 114 entries, 0 to 113\n",
            "Data columns (total 18 columns):\n",
            " #   Column          Non-Null Count  Dtype  \n",
            "---  ------          --------------  -----  \n",
            " 0   Name            114 non-null    object \n",
            " 1   Title           114 non-null    object \n",
            " 2   Voice_Line      114 non-null    object \n",
            " 3   Release_Date    114 non-null    object \n",
            " 4   Primary_Role    114 non-null    object \n",
            " 5   Secondary_Role  30 non-null     object \n",
            " 6   Lane            114 non-null    object \n",
            " 7   Hp              114 non-null    int64  \n",
            " 8   Hp_Regen        114 non-null    float64\n",
            " 9   Mana            114 non-null    int64  \n",
            " 10  Mana_Regen      113 non-null    float64\n",
            " 11  Phy_Damage      114 non-null    int64  \n",
            " 12  Mag_Damage      114 non-null    int64  \n",
            " 13  Phy_Defence     114 non-null    int64  \n",
            " 14  Mag_Defence     114 non-null    int64  \n",
            " 15  Mov_Speed       114 non-null    int64  \n",
            " 16  Esport_Wins     114 non-null    int64  \n",
            " 17  Esport_Loss     114 non-null    int64  \n",
            "dtypes: float64(2), int64(9), object(7)\n",
            "memory usage: 16.2+ KB\n"
          ]
        }
      ]
    },
    {
      "cell_type": "code",
      "source": [
        "import seaborn as sns"
      ],
      "metadata": {
        "id": "JScPq_5kpRgl"
      },
      "execution_count": 63,
      "outputs": []
    },
    {
      "cell_type": "code",
      "source": [
        "sns.countplot(x = 'Lane', hue = 'Primary_Role', data = heroes)"
      ],
      "metadata": {
        "colab": {
          "base_uri": "https://localhost:8080/",
          "height": 296
        },
        "id": "75ES1CyhpWSU",
        "outputId": "dd72a2c2-96b1-4e63-a8f9-49e51a63c1f7"
      },
      "execution_count": 67,
      "outputs": [
        {
          "output_type": "execute_result",
          "data": {
            "text/plain": [
              "<matplotlib.axes._subplots.AxesSubplot at 0x7f630b0a4710>"
            ]
          },
          "metadata": {},
          "execution_count": 67
        },
        {
          "output_type": "display_data",
          "data": {
            "text/plain": [
              "<Figure size 432x288 with 1 Axes>"
            ],
            "image/png": "[encoded data removed]"
          },
          "metadata": {
            "needs_background": "light"
          }
        }
      ]
    }
  ]
}